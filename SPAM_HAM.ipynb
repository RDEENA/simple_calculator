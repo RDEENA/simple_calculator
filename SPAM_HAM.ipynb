{
  "nbformat": 4,
  "nbformat_minor": 0,
  "metadata": {
    "colab": {
      "name": "SPAM_HAM.ipynb",
      "provenance": [],
      "include_colab_link": true
    },
    "kernelspec": {
      "name": "python3",
      "display_name": "Python 3"
    },
    "language_info": {
      "name": "python"
    }
  },
  "cells": [
    {
      "cell_type": "markdown",
      "metadata": {
        "id": "view-in-github",
        "colab_type": "text"
      },
      "source": [
        "<a href=\"https://colab.research.google.com/github/RDEENA/simple_calculator/blob/main/SPAM_HAM.ipynb\" target=\"_parent\"><img src=\"https://colab.research.google.com/assets/colab-badge.svg\" alt=\"Open In Colab\"/></a>"
      ]
    },
    {
      "cell_type": "code",
      "metadata": {
        "id": "TcQgtA33FBLi"
      },
      "source": [
        "#SVM - SUPPORT VECTOR MACHINE(SIMLAR TO LOGISTIC REGRESSION)"
      ],
      "execution_count": null,
      "outputs": []
    },
    {
      "cell_type": "code",
      "metadata": {
        "id": "XG7xRhczFU7s"
      },
      "source": [
        "s = ['Congrats ,You have won lottery and if you want lottery money,call the lottery number and get your money',\n",
        "     'Give your bank details for lottery money',\n",
        "     'lottery for sure if bank details are verified']"
      ],
      "execution_count": null,
      "outputs": []
    },
    {
      "cell_type": "code",
      "metadata": {
        "colab": {
          "base_uri": "https://localhost:8080/"
        },
        "id": "MhH2VPwmF5Sk",
        "outputId": "30802224-395e-47f7-b573-f51d6aeeb655"
      },
      "source": [
        "type(s)"
      ],
      "execution_count": null,
      "outputs": [
        {
          "output_type": "execute_result",
          "data": {
            "text/plain": [
              "list"
            ]
          },
          "metadata": {
            "tags": []
          },
          "execution_count": 4
        }
      ]
    },
    {
      "cell_type": "code",
      "metadata": {
        "colab": {
          "base_uri": "https://localhost:8080/"
        },
        "id": "9_ZYkZmGF7ee",
        "outputId": "3c95850d-5054-4be0-b975-a223dcdcca48"
      },
      "source": [
        "s[1].split()\n",
        "#tokenization - (creating of tokens )"
      ],
      "execution_count": null,
      "outputs": [
        {
          "output_type": "execute_result",
          "data": {
            "text/plain": [
              "['Give', 'your', 'bank', 'details', 'for', 'lottery', 'money']"
            ]
          },
          "metadata": {
            "tags": []
          },
          "execution_count": 5
        }
      ]
    },
    {
      "cell_type": "code",
      "metadata": {
        "id": "Bin_4lDtGJP0"
      },
      "source": [
        "#1.CountVectorizer\n",
        "from sklearn.feature_extraction.text import CountVectorizer\n",
        "vect = CountVectorizer(stop_words='english')\n",
        "op = vect.fit_transform(s).toarray()#we are converting our sentence into numbers,so that sklearn understands it\n",
        "#stopwords are english words ,which do not add much meaning to the sentence."
      ],
      "execution_count": null,
      "outputs": []
    },
    {
      "cell_type": "code",
      "metadata": {
        "colab": {
          "base_uri": "https://localhost:8080/"
        },
        "id": "QZeWhMQ2HcLI",
        "outputId": "89eeb7a8-074b-48f9-a828-166b5f818b58"
      },
      "source": [
        "vect"
      ],
      "execution_count": null,
      "outputs": [
        {
          "output_type": "execute_result",
          "data": {
            "text/plain": [
              "CountVectorizer(analyzer='word', binary=False, decode_error='strict',\n",
              "                dtype=<class 'numpy.int64'>, encoding='utf-8', input='content',\n",
              "                lowercase=True, max_df=1.0, max_features=None, min_df=1,\n",
              "                ngram_range=(1, 1), preprocessor=None, stop_words='english',\n",
              "                strip_accents=None, token_pattern='(?u)\\\\b\\\\w\\\\w+\\\\b',\n",
              "                tokenizer=None, vocabulary=None)"
            ]
          },
          "metadata": {
            "tags": []
          },
          "execution_count": 7
        }
      ]
    },
    {
      "cell_type": "code",
      "metadata": {
        "colab": {
          "base_uri": "https://localhost:8080/"
        },
        "id": "JVDk0X10Hmf2",
        "outputId": "d86ec7b0-d202-4c74-c7fb-4bbd35bb48ac"
      },
      "source": [
        "op"
      ],
      "execution_count": null,
      "outputs": [
        {
          "output_type": "execute_result",
          "data": {
            "text/plain": [
              "array([[0, 1, 0, 3, 2, 1, 0, 0, 1, 1],\n",
              "       [1, 0, 1, 1, 1, 0, 0, 0, 0, 0],\n",
              "       [1, 0, 1, 1, 0, 0, 1, 1, 0, 0]])"
            ]
          },
          "metadata": {
            "tags": []
          },
          "execution_count": 8
        }
      ]
    },
    {
      "cell_type": "code",
      "metadata": {
        "colab": {
          "base_uri": "https://localhost:8080/",
          "height": 142
        },
        "id": "iHQHEu94HoBz",
        "outputId": "5722e966-a4a7-4357-91c1-10cc8e95cae4"
      },
      "source": [
        "import pandas as pd\n",
        "df = pd.DataFrame(op,columns = vect.get_feature_names())\n",
        "df"
      ],
      "execution_count": null,
      "outputs": [
        {
          "output_type": "execute_result",
          "data": {
            "text/html": [
              "<div>\n",
              "<style scoped>\n",
              "    .dataframe tbody tr th:only-of-type {\n",
              "        vertical-align: middle;\n",
              "    }\n",
              "\n",
              "    .dataframe tbody tr th {\n",
              "        vertical-align: top;\n",
              "    }\n",
              "\n",
              "    .dataframe thead th {\n",
              "        text-align: right;\n",
              "    }\n",
              "</style>\n",
              "<table border=\"1\" class=\"dataframe\">\n",
              "  <thead>\n",
              "    <tr style=\"text-align: right;\">\n",
              "      <th></th>\n",
              "      <th>bank</th>\n",
              "      <th>congrats</th>\n",
              "      <th>details</th>\n",
              "      <th>lottery</th>\n",
              "      <th>money</th>\n",
              "      <th>number</th>\n",
              "      <th>sure</th>\n",
              "      <th>verified</th>\n",
              "      <th>want</th>\n",
              "      <th>won</th>\n",
              "    </tr>\n",
              "  </thead>\n",
              "  <tbody>\n",
              "    <tr>\n",
              "      <th>0</th>\n",
              "      <td>0</td>\n",
              "      <td>1</td>\n",
              "      <td>0</td>\n",
              "      <td>3</td>\n",
              "      <td>2</td>\n",
              "      <td>1</td>\n",
              "      <td>0</td>\n",
              "      <td>0</td>\n",
              "      <td>1</td>\n",
              "      <td>1</td>\n",
              "    </tr>\n",
              "    <tr>\n",
              "      <th>1</th>\n",
              "      <td>1</td>\n",
              "      <td>0</td>\n",
              "      <td>1</td>\n",
              "      <td>1</td>\n",
              "      <td>1</td>\n",
              "      <td>0</td>\n",
              "      <td>0</td>\n",
              "      <td>0</td>\n",
              "      <td>0</td>\n",
              "      <td>0</td>\n",
              "    </tr>\n",
              "    <tr>\n",
              "      <th>2</th>\n",
              "      <td>1</td>\n",
              "      <td>0</td>\n",
              "      <td>1</td>\n",
              "      <td>1</td>\n",
              "      <td>0</td>\n",
              "      <td>0</td>\n",
              "      <td>1</td>\n",
              "      <td>1</td>\n",
              "      <td>0</td>\n",
              "      <td>0</td>\n",
              "    </tr>\n",
              "  </tbody>\n",
              "</table>\n",
              "</div>"
            ],
            "text/plain": [
              "   bank  congrats  details  lottery  money  number  sure  verified  want  won\n",
              "0     0         1        0        3      2       1     0         0     1    1\n",
              "1     1         0        1        1      1       0     0         0     0    0\n",
              "2     1         0        1        1      0       0     1         1     0    0"
            ]
          },
          "metadata": {
            "tags": []
          },
          "execution_count": 9
        }
      ]
    },
    {
      "cell_type": "code",
      "metadata": {
        "id": "-B7WgoAUH7Wg"
      },
      "source": [
        "#TFIDF - TERM FREQUENCY - INVERSE DOCUMENT FREQUENCY"
      ],
      "execution_count": null,
      "outputs": []
    },
    {
      "cell_type": "code",
      "metadata": {
        "colab": {
          "base_uri": "https://localhost:8080/",
          "height": 142
        },
        "id": "9OYQwSKnI9eV",
        "outputId": "b47f3211-528e-46ca-c561-8207ad1936ae"
      },
      "source": [
        "import pandas as pd\n",
        "from sklearn.feature_extraction.text import TfidfVectorizer\n",
        "vect = TfidfVectorizer(stop_words = 'english')\n",
        "op = vect.fit_transform(s).toarray()\n",
        "df = pd.DataFrame(op,columns = vect.get_feature_names())\n",
        "df"
      ],
      "execution_count": null,
      "outputs": [
        {
          "output_type": "execute_result",
          "data": {
            "text/html": [
              "<div>\n",
              "<style scoped>\n",
              "    .dataframe tbody tr th:only-of-type {\n",
              "        vertical-align: middle;\n",
              "    }\n",
              "\n",
              "    .dataframe tbody tr th {\n",
              "        vertical-align: top;\n",
              "    }\n",
              "\n",
              "    .dataframe thead th {\n",
              "        text-align: right;\n",
              "    }\n",
              "</style>\n",
              "<table border=\"1\" class=\"dataframe\">\n",
              "  <thead>\n",
              "    <tr style=\"text-align: right;\">\n",
              "      <th></th>\n",
              "      <th>bank</th>\n",
              "      <th>congrats</th>\n",
              "      <th>details</th>\n",
              "      <th>lottery</th>\n",
              "      <th>money</th>\n",
              "      <th>number</th>\n",
              "      <th>sure</th>\n",
              "      <th>verified</th>\n",
              "      <th>want</th>\n",
              "      <th>won</th>\n",
              "    </tr>\n",
              "  </thead>\n",
              "  <tbody>\n",
              "    <tr>\n",
              "      <th>0</th>\n",
              "      <td>0.000000</td>\n",
              "      <td>0.325248</td>\n",
              "      <td>0.000000</td>\n",
              "      <td>0.576289</td>\n",
              "      <td>0.494718</td>\n",
              "      <td>0.325248</td>\n",
              "      <td>0.000000</td>\n",
              "      <td>0.000000</td>\n",
              "      <td>0.325248</td>\n",
              "      <td>0.325248</td>\n",
              "    </tr>\n",
              "    <tr>\n",
              "      <th>1</th>\n",
              "      <td>0.526820</td>\n",
              "      <td>0.000000</td>\n",
              "      <td>0.526820</td>\n",
              "      <td>0.409123</td>\n",
              "      <td>0.526820</td>\n",
              "      <td>0.000000</td>\n",
              "      <td>0.000000</td>\n",
              "      <td>0.000000</td>\n",
              "      <td>0.000000</td>\n",
              "      <td>0.000000</td>\n",
              "    </tr>\n",
              "    <tr>\n",
              "      <th>2</th>\n",
              "      <td>0.406192</td>\n",
              "      <td>0.000000</td>\n",
              "      <td>0.406192</td>\n",
              "      <td>0.315444</td>\n",
              "      <td>0.000000</td>\n",
              "      <td>0.000000</td>\n",
              "      <td>0.534093</td>\n",
              "      <td>0.534093</td>\n",
              "      <td>0.000000</td>\n",
              "      <td>0.000000</td>\n",
              "    </tr>\n",
              "  </tbody>\n",
              "</table>\n",
              "</div>"
            ],
            "text/plain": [
              "       bank  congrats   details  ...  verified      want       won\n",
              "0  0.000000  0.325248  0.000000  ...  0.000000  0.325248  0.325248\n",
              "1  0.526820  0.000000  0.526820  ...  0.000000  0.000000  0.000000\n",
              "2  0.406192  0.000000  0.406192  ...  0.534093  0.000000  0.000000\n",
              "\n",
              "[3 rows x 10 columns]"
            ]
          },
          "metadata": {
            "tags": []
          },
          "execution_count": 13
        }
      ]
    },
    {
      "cell_type": "code",
      "metadata": {
        "id": "FPD82Pq_J3Oi"
      },
      "source": [
        ""
      ],
      "execution_count": null,
      "outputs": []
    }
  ]
}